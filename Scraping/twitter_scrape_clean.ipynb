{
 "cells": [
  {
   "cell_type": "code",
   "execution_count": null,
   "metadata": {},
   "outputs": [],
   "source": [
    "from selenium import webdriver\n",
    "from selenium.webdriver.common.keys import Keys\n",
    "import pandas as pd\n",
    "browser_path = 'C:/Users/Phons/driver/chromedriver.exe' # change this to where you installed your chromedriver\n",
    "# setting the chromedriver path and initializing driver\n",
    "driver = webdriver.Chrome(executable_path=browser_path)\n",
    "# create master df to append to\n",
    "master_df = pd.DataFrame()"
   ]
  },
  {
   "cell_type": "code",
   "execution_count": null,
   "metadata": {},
   "outputs": [],
   "source": [
    "from time import sleep\n",
    "import random\n",
    "def sleep_for(opt1, opt2):\n",
    "    time_for = random.uniform(opt1, opt2)\n",
    "    time_for_int = int(round(time_for))\n",
    "    sleep(abs(time_for_int - time_for))\n",
    "    for i in range(time_for_int, 0, -1):\n",
    "        sleep(1)"
   ]
  },
  {
   "cell_type": "code",
   "execution_count": null,
   "metadata": {},
   "outputs": [],
   "source": [
    "from progressbar import ProgressBar\n",
    "pbar = ProgressBar()\n",
    "urls = ['https://twitter.com/KeroKeroBonito']\n",
    "# how many times should the browser scroll down\n",
    "scroll_down_num = 2\n",
    "# the element we are obtaining from the webpage\n",
    "post_element_xpath = '//div/div/article/div/div'\n",
    "# loop through your list of urls\n",
    "for url in pbar(urls):\n",
    "    driver.get(url)\n",
    "    sleep_for(10, 15)  # sleep a while\n",
    "    # scroll x number of times\n",
    "    for i in range(0, scroll_down_num):\n",
    "        # scroll down\n",
    "        sleep_for(4, 7)\n",
    "    # get a list of tweets\n",
    "        post_list = driver.find_elements_by_xpath(post_element_xpath)\n",
    "    # get the text only from each element\n",
    "        post_text = [x.text for x in post_list]\n",
    "    # create temporary dataset of each tweet\n",
    "        temp_df = pd.DataFrame(post_text, columns={'all_text'})\n",
    "    # append the temporary dataset to the dataset we will save\n",
    "        master_df = master_df.append(temp_df) \n",
    "        driver.find_element_by_xpath('//body').send_keys(Keys.END)\n"
   ]
  },
  {
   "cell_type": "code",
   "execution_count": null,
   "metadata": {},
   "outputs": [],
   "source": [
    "def parse_text(text):\n",
    "    # split by new line\n",
    "    text_list = str.splitlines(text) \n",
    "    # get the username (always the first list element)\n",
    "    username = text_list[0]  \n",
    "    #print(username)\n",
    "    # within the first few elements, find the element\n",
    "    # with the @ symbol, this will be the user handle\n",
    "    handle = ''.join(x for x in text_list[1:3] if '@' in x)\n",
    "    # get the date, using the single dot to identify its \n",
    "    # index location\n",
    "    dot_position = text_list[1:4].index('·')  \n",
    "    date = text_list[dot_position + 2]  # date comes after dot\n",
    "    # check if its a reply to someone else\n",
    "    if text_list[4] == \"Replying to \":\n",
    "        reply_to = True\n",
    "        reply_to_handle = text_list[5]\n",
    "        text = text_list[6]\n",
    "    else:\n",
    "        reply_to = False\n",
    "        reply_to_handle = ''\n",
    "        # find the longest string within list index 4:6\n",
    "        # this will be the tweet text\n",
    "        text = (text_list[4:-3])\n",
    "        text = ''.join(text)\n",
    "    # return the variables we have parse from the text\n",
    "    return pd.Series([username, handle,\n",
    "                      date, reply_to, reply_to_handle, text])\n",
    "# run the parse function via pandas apply\n",
    "master_df[['username', 'handle', 'date', 'reply_to', 'reply_to_handle', 'atext']\n",
    "   ] = master_df['all_text'].apply(parse_text)\n",
    "# export csv\n",
    "#master_df.to_csv('output.csv')"
   ]
  },
  {
   "cell_type": "code",
   "execution_count": null,
   "metadata": {},
   "outputs": [],
   "source": [
    "#Function that removes the quoted tweet when retweeting\n",
    "\n",
    "def no_rt(df):\n",
    "    if df.find(\"Quote Tweet\") != -1:\n",
    "        temp = df.find(\"Quote Tweet\")\n",
    "        item = df[0:temp]\n",
    "        return item\n",
    "    else:\n",
    "        return df\n",
    "master_df['atext'] = master_df['atext'].apply(no_rt)"
   ]
  },
  {
   "cell_type": "code",
   "execution_count": null,
   "metadata": {},
   "outputs": [],
   "source": [
    "#Function to remove the date added when you retweet an old tweet\n",
    "import re\n",
    "def rt_only(df):\n",
    "    months = ['Jan', 'Feb', 'Mar', 'Apr', 'May', 'Jun', 'Jul', 'Aug', 'Sep', 'Oct', 'Nov', 'Dec']\n",
    "    temp = df\n",
    "    x = [re.search(re.escape(word) + ' [0-9]', df) for word in months]\n",
    "    new = None\n",
    "    for item in x:\n",
    "        if item != None:\n",
    "            new = item\n",
    "    if new != None:\n",
    "        #print(new)\n",
    "        #print(temp[5])\n",
    "        y = re.search(\"[0-9]\", temp[5])\n",
    "        #print(y)\n",
    "        if y != None:\n",
    "            #print(temp[6:])\n",
    "            return temp[6:]\n",
    "        else:\n",
    "            #rint(temp[5:])\n",
    "            return temp[5:]\n",
    "    return df\n",
    "\n",
    "master_df['atext'] = master_df['atext'].apply(rt_only)"
   ]
  },
  {
   "cell_type": "code",
   "execution_count": null,
   "metadata": {},
   "outputs": [],
   "source": [
    "master_df"
   ]
  },
  {
   "cell_type": "code",
   "execution_count": null,
   "metadata": {},
   "outputs": [],
   "source": [
    "for item in master_df['atext']:\n",
    "    print()\n",
    "    print(item)\n",
    "        "
   ]
  }
 ],
 "metadata": {
  "kernelspec": {
   "display_name": "Python 3",
   "language": "python",
   "name": "python3"
  },
  "language_info": {
   "codemirror_mode": {
    "name": "ipython",
    "version": 3
   },
   "file_extension": ".py",
   "mimetype": "text/x-python",
   "name": "python",
   "nbconvert_exporter": "python",
   "pygments_lexer": "ipython3",
   "version": "3.7.9"
  }
 },
 "nbformat": 4,
 "nbformat_minor": 4
}
